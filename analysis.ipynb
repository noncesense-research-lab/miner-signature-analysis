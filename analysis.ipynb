{
 "cells": [
  {
   "cell_type": "markdown",
   "id": "d106cb1d",
   "metadata": {},
   "source": [
    "# Miner signature analysis\n",
    "\n",
    "Data from Neptune and the Monero Archival Project, Analysis by Isthmus\n",
    "\n",
    "Examining the information leaked by both the nonce search strategy and how the coinbase tx_extra is used"
   ]
  },
  {
   "cell_type": "markdown",
   "id": "a479609a",
   "metadata": {},
   "source": [
    "## Import libraries"
   ]
  },
  {
   "cell_type": "code",
   "execution_count": 1,
   "id": "1427379a",
   "metadata": {},
   "outputs": [],
   "source": [
    "import isthmuslib\n",
    "import pandas as pd\n",
    "import pathlib\n",
    "from typing import List, Set\n",
    "from copy import deepcopy"
   ]
  },
  {
   "cell_type": "markdown",
   "id": "6efa5e01",
   "metadata": {},
   "source": [
    "## Load the data"
   ]
  },
  {
   "cell_type": "code",
   "execution_count": 2,
   "id": "ce12fddb",
   "metadata": {},
   "outputs": [],
   "source": [
    "data_path: pathlib.Path = pathlib.Path.cwd() / 'data' / 'local_only' / 'study_isthmus_coinbase_data.csv'\n",
    "if not data_path.exists():\n",
    "    raise ValueError(f\"Specified file does not exist: {data_path}\")\n",
    "df = pd.read_csv(data_path)"
   ]
  },
  {
   "cell_type": "markdown",
   "id": "8effeabb",
   "metadata": {},
   "source": [
    "## Visualize"
   ]
  },
  {
   "cell_type": "markdown",
   "id": "9a904173",
   "metadata": {},
   "source": [
    "First where are nonces sampled from?"
   ]
  },
  {
   "cell_type": "code",
   "execution_count": null,
   "id": "58b23e42",
   "metadata": {
    "scrolled": false
   },
   "outputs": [],
   "source": [
    "isthmuslib.scatter(df, 'block_height', 'block_nonce', markersize= 1, figsize=(20,20));"
   ]
  },
  {
   "cell_type": "markdown",
   "id": "74f606e9",
   "metadata": {},
   "source": [
    "What are the coinbase tx_extra length signatures?"
   ]
  },
  {
   "cell_type": "code",
   "execution_count": null,
   "id": "d64f80f9",
   "metadata": {},
   "outputs": [],
   "source": [
    "isthmuslib.scatter(df, 'block_height', 'coinbase_len_tx_extra', markersize=1, figsize=(20, 20));"
   ]
  },
  {
   "cell_type": "raw",
   "id": "97eabdfb",
   "metadata": {},
   "source": [
    "Create a summary figure"
   ]
  },
  {
   "cell_type": "code",
   "execution_count": null,
   "id": "e132a7f9",
   "metadata": {
    "scrolled": false
   },
   "outputs": [],
   "source": [
    "df_recent: pd.DataFrame = deepcopy(df[df['block_height'] > 2210000])\n",
    "isthmuslib.hist(df_recent, 'coinbase_len_tx_extra', bins=100, log_axes='y', figsize=(12,7), \n",
    "                xlim=(32,100), title=f'Coinbase signatures since height {(m:=min(df_recent.block_height))}')\n",
    "isthmuslib.scatter(df_recent, 'coinbase_len_tx_extra', 'block_height', markersize= 1, figsize=(12,7), \n",
    "                xlim=(32,100), title=f'Coinbase signatures since height {m} (colored by nonce)',\n",
    "                c=df_recent.loc[:,'block_nonce'], cmap='jet');\n",
    "isthmuslib.plt.scatter(df_recent['coinbase_len_tx_extra'], df_recent['block_height'], 2, df_recent['block_nonce'], cmap='jet');"
   ]
  },
  {
   "cell_type": "markdown",
   "id": "5f07177f",
   "metadata": {},
   "source": [
    "How many signatures are active?"
   ]
  },
  {
   "cell_type": "code",
   "execution_count": null,
   "id": "77bc48d5",
   "metadata": {},
   "outputs": [],
   "source": [
    "signatures: Set[int] = set(df_recent.coinbase_len_tx_extra.tolist())\n",
    "print(f\"Currently {len(signatures)} signatures active (since height {m}):\\n\\nlengths: {sorted(list(signatures))}\")"
   ]
  },
  {
   "cell_type": "markdown",
   "id": "01e76440",
   "metadata": {},
   "source": [
    "Plot the recent signatures individually. Some of the search patterns are easy to see on linear y-axes, others are easier to see on log y-axes, so we'll plot both here (along with a histogram of activity)"
   ]
  },
  {
   "cell_type": "code",
   "execution_count": null,
   "id": "a63a2c04",
   "metadata": {
    "scrolled": false
   },
   "outputs": [],
   "source": [
    "runs: List[List[int]] = []\n",
    "for length in sorted(list(signatures)):\n",
    "    df_filter: pd.Series = df_recent.loc[:, 'coinbase_len_tx_extra'] == length\n",
    "    isthmuslib.scatter(df_recent[df_filter], 'block_height', 'block_nonce', xlabel='height', ylabel='nonce',\n",
    "                      title=f\"Nonce distribution for blocks with len(tx_extra) == {length}\", markersize=2,\n",
    "                      log_axes='', figsize=(10, 5))\n",
    "    isthmuslib.scatter(df_recent[df_filter], 'block_height', 'block_nonce', xlabel='height', ylabel='nonce',\n",
    "                      title=f\"Nonce distribution for blocks with len(tx_extra) == {length}\", markersize=2,\n",
    "                      log_axes='y', figsize=(10, 5))\n",
    "    isthmuslib.hist(df_recent[df_filter], 'block_height', xlabel='height', ylabel='activity (block counts)',\n",
    "                      title=f\"Activity of miners with len(tx_extra) == {length} signature\"+\n",
    "                      f\"\\n(total count = {sum(df_filter)})\", markersize=2,\n",
    "                      log_axes='', figsize=(10, 5), bins=50)\n",
    "    runs.append(df_recent[df_filter].block_height.to_list())"
   ]
  },
  {
   "cell_type": "code",
   "execution_count": null,
   "id": "b76cdae4",
   "metadata": {},
   "outputs": [],
   "source": [
    "# Ugly histogram, these need to be stacked... \n",
    "isthmuslib.hist(runs, bins=50, log_axes='y', xlabel='height', ylabel='activity');"
   ]
  }
 ],
 "metadata": {
  "kernelspec": {
   "display_name": "Python 3 (ipykernel)",
   "language": "python",
   "name": "python3"
  },
  "language_info": {
   "codemirror_mode": {
    "name": "ipython",
    "version": 3
   },
   "file_extension": ".py",
   "mimetype": "text/x-python",
   "name": "python",
   "nbconvert_exporter": "python",
   "pygments_lexer": "ipython3",
   "version": "3.8.10"
  }
 },
 "nbformat": 4,
 "nbformat_minor": 5
}
